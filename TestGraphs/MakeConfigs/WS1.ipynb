{
 "cells": [
  {
   "cell_type": "code",
   "execution_count": 1,
   "id": "5d0cd442-4d73-4aaa-90f0-63dd7945be5f",
   "metadata": {
    "tags": []
   },
   "outputs": [],
   "source": [
    "import os\n",
    "import pandas as pd"
   ]
  },
  {
   "cell_type": "code",
   "execution_count": 2,
   "id": "9f1dfee6-ad9f-4a0e-8324-31498e929c91",
   "metadata": {
    "tags": []
   },
   "outputs": [],
   "source": [
    "Sites = {\n",
    " 1: 'LincolnRot1',\n",
    " 2: 'LincolnRot2',\n",
    " 3: 'HawksBayRot3',\n",
    " 4: 'HawksBayRot4'\n",
    "}"
   ]
  },
  {
   "cell_type": "code",
   "execution_count": 3,
   "id": "83ad032a-d4db-4bb3-b289-c9c5679888dc",
   "metadata": {
    "tags": []
   },
   "outputs": [],
   "source": [
    "try: \n",
    "    if os.environ[\"GITHUB_WORKSPACE\"] != None:\n",
    "        root = os.environ[\"GITHUB_WORKSPACE\"]\n",
    "        path = os.path.join(root,\"TestComponents\", \"TestSets\", \"WS1\")\n",
    "except:\n",
    "    rootfrags = os.path.abspath('WS1.py').split(\"\\\\\")\n",
    "    root = \"\"\n",
    "    for d in rootfrags:\n",
    "        if d == \"FieldNBalance\":\n",
    "            break\n",
    "        else:\n",
    "            root += d + \"\\\\\"\n",
    "    path = os.path.join(root,\"FieldNBalance\",\"TestComponents\", \"TestSets\", \"WS1\")"
   ]
  },
  {
   "cell_type": "code",
   "execution_count": 4,
   "id": "cb5c353f",
   "metadata": {},
   "outputs": [],
   "source": [
    "Configs = pd.read_excel(os.path.join(path, \"FieldConfigs.xlsx\"),sheet_name=Sites[1],nrows=45,usecols=lambda x: 'Unnamed' not in x,keep_default_na=False)\n",
    "Configs.set_index('Name',inplace=True)\n",
    "for s in range(1,5):\n",
    "    sites = pd.read_excel(os.path.join(path, \"FieldConfigs.xlsx\"),sheet_name=Sites[s],nrows=45,usecols=lambda x: 'Unnamed' not in x,keep_default_na=False)\n",
    "    sites.set_index('Name',inplace=True)\n",
    "    if s != 1:\n",
    "        Configs = pd.concat([Configs,sites],axis=1)\n",
    "    #set the other N treatments\n",
    "    nlast = \"_N1_\"\n",
    "    for n in [\"_N2_\",\"_N3_\",\"_N4_\"]:\n",
    "        sites.columns = [sites.columns[x].replace(nlast,n) for x in range(sites.columns.size)]\n",
    "        Configs = pd.concat([Configs,sites],axis=1)\n",
    "        nlast = n"
   ]
  },
  {
   "cell_type": "code",
   "execution_count": 5,
   "id": "f1eb965a-7faa-4228-8052-754213d42587",
   "metadata": {
    "tags": []
   },
   "outputs": [],
   "source": [
    "CSConfigs = Configs.transpose()\n",
    "CSConfigs.to_csv(os.path.join(path, \"FieldConfigs.csv\"),header=True)"
   ]
  },
  {
   "cell_type": "code",
   "execution_count": 6,
   "id": "acea3a05-e847-42d0-afa6-82245a56da6a",
   "metadata": {
    "tags": []
   },
   "outputs": [],
   "source": [
    "Configs.to_pickle(os.path.join(path, \"FieldConfigs.pkl\"))"
   ]
  }
 ],
 "metadata": {
  "jupytext": {
   "formats": "ipynb,py:light"
  },
  "kernelspec": {
   "display_name": "Python 3 (ipykernel)",
   "language": "python",
   "name": "python3"
  },
  "language_info": {
   "codemirror_mode": {
    "name": "ipython",
    "version": 3
   },
   "file_extension": ".py",
   "mimetype": "text/x-python",
   "name": "python",
   "nbconvert_exporter": "python",
   "pygments_lexer": "ipython3",
   "version": "3.10.13"
  }
 },
 "nbformat": 4,
 "nbformat_minor": 5
}
